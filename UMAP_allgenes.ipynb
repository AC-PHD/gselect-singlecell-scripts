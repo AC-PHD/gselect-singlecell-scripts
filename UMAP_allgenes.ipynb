{
 "cells": [
  {
   "cell_type": "code",
   "execution_count": null,
   "id": "7a60a6bd",
   "metadata": {},
   "outputs": [],
   "source": [
    "import scanpy as sc\n",
    "import matplotlib.pyplot as plt\n",
    "\n",
    "def load_and_process_h5ad(file_path: str, filter_column: str, filter_values: list) -> sc.AnnData:\n",
    "    adata = sc.read_h5ad(file_path)\n",
    "    if filter_column not in adata.obs.columns:\n",
    "        raise ValueError(f\"Column '{filter_column}' not found in 'adata.obs'. Available columns: {adata.obs.columns.tolist()}\")\n",
    "    \n",
    "    adata = adata[adata.obs[filter_column].isin(filter_values)].copy()\n",
    "    return adata\n",
    "\n",
    "def perform_umap(adata: sc.AnnData) -> sc.AnnData:\n",
    "    if \"X_pca\" not in adata.obsm:\n",
    "        sc.pp.pca(adata)\n",
    "        sc.pp.neighbors(adata)\n",
    "        sc.tl.umap(adata)\n",
    "    return adata\n",
    "\n",
    "def plot_umap(adata: sc.AnnData, color_column: str) -> None:\n",
    "    if color_column not in adata.obs.columns:\n",
    "        raise ValueError(f\"Color column '{color_column}' not found in 'adata.obs'. Available columns: {adata.obs.columns.tolist()}\")\n",
    "    \n",
    "    sc.pl.umap(adata, color=color_column, show=True)\n",
    "\n",
    "#paths\n",
    "file_path = \"Hs10X_processed.h5ad\"  # Path to H5AD file\n",
    "target_column = \"cell_type_custom\"  # Column to filter\n",
    "filter_values = ['dendritic_cell', 'monocyte']  # Values\n",
    "\n",
    "#Pipeline\n",
    "adata = load_and_process_h5ad(file_path, target_column, filter_values)\n",
    "adata = perform_umap(adata)\n",
    "plot_umap(adata, color_column=target_column)\n"
   ]
  }
 ],
 "metadata": {
  "kernelspec": {
   "display_name": "Python (aylin-base)",
   "language": "python",
   "name": "aylin-base"
  },
  "language_info": {
   "codemirror_mode": {
    "name": "ipython",
    "version": 3
   },
   "file_extension": ".py",
   "mimetype": "text/x-python",
   "name": "python",
   "nbconvert_exporter": "python",
   "pygments_lexer": "ipython3",
   "version": "3.10.9"
  }
 },
 "nbformat": 4,
 "nbformat_minor": 5
}
